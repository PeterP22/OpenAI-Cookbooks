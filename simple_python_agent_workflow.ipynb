{
 "cells": [
  {
   "cell_type": "code",
   "execution_count": 1,
   "metadata": {},
   "outputs": [],
   "source": [
    "import os\n",
    "import re\n",
    "from openai import OpenAI\n",
    "from dotenv import load_dotenv"
   ]
  },
  {
   "cell_type": "code",
   "execution_count": 2,
   "metadata": {},
   "outputs": [
    {
     "data": {
      "text/plain": [
       "True"
      ]
     },
     "execution_count": 2,
     "metadata": {},
     "output_type": "execute_result"
    }
   ],
   "source": [
    "# Load environment variables\n",
    "load_dotenv()"
   ]
  },
  {
   "cell_type": "code",
   "execution_count": 3,
   "metadata": {},
   "outputs": [],
   "source": [
    "# check if the API key is set\n",
    "if not os.getenv(\"OPENAI_API_KEY\"):\n",
    "    raise ValueError(\"API key is not set\")"
   ]
  },
  {
   "cell_type": "code",
   "execution_count": 4,
   "metadata": {},
   "outputs": [],
   "source": [
    "# initialize the OpenAI client\n",
    "client = OpenAI()"
   ]
  },
  {
   "cell_type": "code",
   "execution_count": 5,
   "metadata": {},
   "outputs": [],
   "source": [
    "def extract_pattern(text, pattern):\n",
    "    \"\"\"\n",
    "    Extracts a pattern from the given text.\n",
    "\n",
    "    Args:\n",
    "        text (str): The text to search within.\n",
    "        pattern (str): The regex pattern to search for.\n",
    "\n",
    "    Returns:\n",
    "        str: The extracted pattern or None if not found.\n",
    "    \"\"\"\n",
    "    match = re.search(pattern, text, flags=re.DOTALL)\n",
    "    if match:\n",
    "        return match.group(1).strip()\n",
    "    return None"
   ]
  },
  {
   "cell_type": "code",
   "execution_count": 6,
   "metadata": {},
   "outputs": [],
   "source": [
    "def run_openai_agent(query):\n",
    "    print(\"### Run OpenAI agent\")\n",
    "    print(f\"User query: {query}\")\n",
    "    try:\n",
    "        completion = client.chat.completions.create(\n",
    "            model=\"gpt-4o\",  \n",
    "            messages=[\n",
    "                {\"role\": \"system\", \"content\": \"You are a Python coding assistant. Return a Python function for the given query, followed by a test case using assertion. Format your response with '## Python function' and '## Test case' headers.\"},\n",
    "                {\"role\": \"user\", \"content\": query}\n",
    "            ]\n",
    "        )\n",
    "        result = completion.choices[0].message.content\n",
    "        print(\"Raw response from OpenAI:\")\n",
    "        print(result)\n",
    "        return result\n",
    "    except Exception as e:\n",
    "        print(f\"Request failed: {e}. Please check your request.\")\n",
    "        return None"
   ]
  },
  {
   "cell_type": "code",
   "execution_count": 7,
   "metadata": {},
   "outputs": [],
   "source": [
    "def extract_pattern(text, pattern):\n",
    "    \"\"\"\n",
    "    Extracts a pattern from the given text.\n",
    "\n",
    "    Args:\n",
    "        text (str): The text to search within.\n",
    "        pattern (str): The regex pattern to search for.\n",
    "\n",
    "    Returns:\n",
    "        str: The extracted pattern or None if not found.\n",
    "    \"\"\"\n",
    "    match = re.search(pattern, text, flags=re.DOTALL)\n",
    "    if match:\n",
    "        return match.group(1).strip()\n",
    "    return None"
   ]
  },
  {
   "cell_type": "code",
   "execution_count": 8,
   "metadata": {},
   "outputs": [],
   "source": [
    "def extract_code(result):\n",
    "    retry = False\n",
    "    print(\"### Extracting Python function\")\n",
    "    python_function = extract_pattern(result, r'## Python function(.*?)## Test case')\n",
    "    if not python_function:\n",
    "        retry = True\n",
    "        print(\"Python function failed to generate or wrong output format. Setting retry to True.\")\n",
    "        print(\"Attempting to extract entire response as Python function.\")\n",
    "        python_function = result\n",
    "    else:\n",
    "        # Remove markdown code block delimiters and any leading/trailing whitespace\n",
    "        python_function = re.sub(r'```python\\s*', '', python_function)\n",
    "        python_function = re.sub(r'\\s*```\\s*', '', python_function)\n",
    "        python_function = python_function.strip()\n",
    "\n",
    "    print(\"### Extracting test case\")\n",
    "    test_function = extract_pattern(result, r'## Test case(.*?)$')\n",
    "    if not test_function:\n",
    "        retry = True\n",
    "        print(\"Test function failed to generate or wrong output format. Setting retry to True.\")\n",
    "        print(\"Attempting to create a simple test case.\")\n",
    "        test_function = \"assert True  # Placeholder test\"\n",
    "    else:\n",
    "        # Remove markdown code block delimiters and any leading/trailing whitespace\n",
    "        test_function = re.sub(r'```python\\s*', '', test_function)\n",
    "        test_function = re.sub(r'\\s*```\\s*', '', test_function)\n",
    "        test_function = test_function.strip()\n",
    "\n",
    "    print(\"Extracted Python function:\")\n",
    "    print(python_function)\n",
    "    print(\"Extracted test case:\")\n",
    "    print(test_function)\n",
    "\n",
    "    return python_function, test_function, retry"
   ]
  },
  {
   "cell_type": "code",
   "execution_count": 9,
   "metadata": {},
   "outputs": [],
   "source": [
    "import traceback\n",
    "\n",
    "def check_code(python_function, test_function):\n",
    "    retry = False\n",
    "    try:\n",
    "        print(\"Executing Python function:\")\n",
    "        print(python_function)\n",
    "        exec(python_function)\n",
    "        print(\"Code executed successfully.\")\n",
    "        try:\n",
    "            print(\"Executing test case:\")\n",
    "            print(test_function)\n",
    "            exec(test_function)\n",
    "            print(\"Code passed test case.\")\n",
    "        except Exception as e:\n",
    "            print(f\"Test failed with error: {str(e)}\")\n",
    "            print(traceback.format_exc())\n",
    "            retry = True\n",
    "            print(\"Setting retry to True\")\n",
    "    except Exception as e:\n",
    "        print(f\"Code failed with error: {str(e)}\")\n",
    "        print(traceback.format_exc())\n",
    "        retry = True\n",
    "        print(\"Setting retry to True\")\n",
    "    return retry"
   ]
  },
  {
   "cell_type": "code",
   "execution_count": 10,
   "metadata": {},
   "outputs": [],
   "source": [
    "def run_workflow(query):\n",
    "    print(\"### ENTER WORKFLOW\")\n",
    "    i = 0\n",
    "    max_retries = 3\n",
    "    retry = True\n",
    "    while i < max_retries and retry:\n",
    "        print(f\"TRY # {i}\")\n",
    "        i += 1\n",
    "        result = run_openai_agent(query)\n",
    "        python_function, test_function, retry = extract_code(result)\n",
    "        retry = check_code(python_function, test_function)\n",
    "\n",
    "    if not retry:\n",
    "        print(f\"Validated Python function: ```{python_function}```\")\n",
    "    print(\"### EXIT WORKFLOW\")"
   ]
  },
  {
   "cell_type": "code",
   "execution_count": 11,
   "metadata": {},
   "outputs": [
    {
     "name": "stdout",
     "output_type": "stream",
     "text": [
      "### ENTER WORKFLOW\n",
      "TRY # 0\n",
      "### Run OpenAI agent\n",
      "User query: How can I remove duplicates from a list\n",
      "Raw response from OpenAI:\n",
      "## Python function\n",
      "\n",
      "```python\n",
      "def remove_duplicates(input_list):\n",
      "    \"\"\"\n",
      "    Remove duplicates from the list while preserving the order of elements.\n",
      "\n",
      "    :param input_list: List of elements that may contain duplicates\n",
      "    :return: List of elements with duplicates removed\n",
      "    \"\"\"\n",
      "    seen = set()\n",
      "    result = []\n",
      "    for item in input_list:\n",
      "        if item not in seen:\n",
      "            seen.add(item)\n",
      "            result.append(item)\n",
      "    return result\n",
      "```\n",
      "\n",
      "## Test case\n",
      "\n",
      "```python\n",
      "# Test case for remove_duplicates function\n",
      "test_list = [1, 2, 2, 3, 4, 4, 5, 1]\n",
      "assert remove_duplicates(test_list) == [1, 2, 3, 4, 5], f\"Test failed! Expected [1, 2, 3, 4, 5] but got {remove_duplicates(test_list)}\"\n",
      "print(\"Test passed!\")\n",
      "```\n",
      "### Extracting Python function\n",
      "### Extracting test case\n",
      "Extracted Python function:\n",
      "def remove_duplicates(input_list):\n",
      "    \"\"\"\n",
      "    Remove duplicates from the list while preserving the order of elements.\n",
      "\n",
      "    :param input_list: List of elements that may contain duplicates\n",
      "    :return: List of elements with duplicates removed\n",
      "    \"\"\"\n",
      "    seen = set()\n",
      "    result = []\n",
      "    for item in input_list:\n",
      "        if item not in seen:\n",
      "            seen.add(item)\n",
      "            result.append(item)\n",
      "    return result\n",
      "Extracted test case:\n",
      "# Test case for remove_duplicates function\n",
      "test_list = [1, 2, 2, 3, 4, 4, 5, 1]\n",
      "assert remove_duplicates(test_list) == [1, 2, 3, 4, 5], f\"Test failed! Expected [1, 2, 3, 4, 5] but got {remove_duplicates(test_list)}\"\n",
      "print(\"Test passed!\")\n",
      "Executing Python function:\n",
      "def remove_duplicates(input_list):\n",
      "    \"\"\"\n",
      "    Remove duplicates from the list while preserving the order of elements.\n",
      "\n",
      "    :param input_list: List of elements that may contain duplicates\n",
      "    :return: List of elements with duplicates removed\n",
      "    \"\"\"\n",
      "    seen = set()\n",
      "    result = []\n",
      "    for item in input_list:\n",
      "        if item not in seen:\n",
      "            seen.add(item)\n",
      "            result.append(item)\n",
      "    return result\n",
      "Code executed successfully.\n",
      "Executing test case:\n",
      "# Test case for remove_duplicates function\n",
      "test_list = [1, 2, 2, 3, 4, 4, 5, 1]\n",
      "assert remove_duplicates(test_list) == [1, 2, 3, 4, 5], f\"Test failed! Expected [1, 2, 3, 4, 5] but got {remove_duplicates(test_list)}\"\n",
      "print(\"Test passed!\")\n",
      "Test passed!\n",
      "Code passed test case.\n",
      "Validated Python function: ```def remove_duplicates(input_list):\n",
      "    \"\"\"\n",
      "    Remove duplicates from the list while preserving the order of elements.\n",
      "\n",
      "    :param input_list: List of elements that may contain duplicates\n",
      "    :return: List of elements with duplicates removed\n",
      "    \"\"\"\n",
      "    seen = set()\n",
      "    result = []\n",
      "    for item in input_list:\n",
      "        if item not in seen:\n",
      "            seen.add(item)\n",
      "            result.append(item)\n",
      "    return result```\n",
      "### EXIT WORKFLOW\n"
     ]
    }
   ],
   "source": [
    "run_workflow(\"How can I remove duplicates from a list\")"
   ]
  }
 ],
 "metadata": {
  "kernelspec": {
   "display_name": "MP3_SUMMARISER",
   "language": "python",
   "name": "python3"
  },
  "language_info": {
   "codemirror_mode": {
    "name": "ipython",
    "version": 3
   },
   "file_extension": ".py",
   "mimetype": "text/x-python",
   "name": "python",
   "nbconvert_exporter": "python",
   "pygments_lexer": "ipython3",
   "version": "3.12.4"
  }
 },
 "nbformat": 4,
 "nbformat_minor": 2
}
